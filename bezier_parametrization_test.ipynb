{
 "cells": [
  {
   "cell_type": "code",
   "execution_count": 2,
   "metadata": {},
   "outputs": [
    {
     "ename": "AttributeError",
     "evalue": "'numpy.ndarray' object has no attribute 'pop'",
     "output_type": "error",
     "traceback": [
      "\u001b[1;31m---------------------------------------------------------------------------\u001b[0m",
      "\u001b[1;31mAttributeError\u001b[0m                            Traceback (most recent call last)",
      "\u001b[1;32md:\\VSCode Projects\\airfoil-optimization-ga\\bezier_parametrization_test.ipynb Cell 1\u001b[0m line \u001b[0;36m3\n\u001b[0;32m     <a href='vscode-notebook-cell:/d%3A/VSCode%20Projects/airfoil-optimization-ga/bezier_parametrization_test.ipynb#W0sZmlsZQ%3D%3D?line=14'>15</a>\u001b[0m parameters \u001b[39m=\u001b[39m [\n\u001b[0;32m     <a href='vscode-notebook-cell:/d%3A/VSCode%20Projects/airfoil-optimization-ga/bezier_parametrization_test.ipynb#W0sZmlsZQ%3D%3D?line=15'>16</a>\u001b[0m     \u001b[39m0\u001b[39m, \u001b[39m#z_te\u001b[39;00m\n\u001b[0;32m     <a href='vscode-notebook-cell:/d%3A/VSCode%20Projects/airfoil-optimization-ga/bezier_parametrization_test.ipynb#W0sZmlsZQ%3D%3D?line=16'>17</a>\u001b[0m     \u001b[39m0\u001b[39m, \u001b[39m#dz_te\u001b[39;00m\n\u001b[1;32m   (...)\u001b[0m\n\u001b[0;32m     <a href='vscode-notebook-cell:/d%3A/VSCode%20Projects/airfoil-optimization-ga/bezier_parametrization_test.ipynb#W0sZmlsZQ%3D%3D?line=30'>31</a>\u001b[0m     \u001b[39m0.014626604247552747\u001b[39m, \u001b[39m# y_4\u001b[39;00m\n\u001b[0;32m     <a href='vscode-notebook-cell:/d%3A/VSCode%20Projects/airfoil-optimization-ga/bezier_parametrization_test.ipynb#W0sZmlsZQ%3D%3D?line=31'>32</a>\u001b[0m ]\n\u001b[0;32m     <a href='vscode-notebook-cell:/d%3A/VSCode%20Projects/airfoil-optimization-ga/bezier_parametrization_test.ipynb#W0sZmlsZQ%3D%3D?line=32'>33</a>\u001b[0m dz_te \u001b[39m=\u001b[39m \u001b[39m0\u001b[39m\n\u001b[1;32m---> <a href='vscode-notebook-cell:/d%3A/VSCode%20Projects/airfoil-optimization-ga/bezier_parametrization_test.ipynb#W0sZmlsZQ%3D%3D?line=34'>35</a>\u001b[0m airfoil \u001b[39m=\u001b[39m BezierAirfoil(\n\u001b[0;32m     <a href='vscode-notebook-cell:/d%3A/VSCode%20Projects/airfoil-optimization-ga/bezier_parametrization_test.ipynb#W0sZmlsZQ%3D%3D?line=35'>36</a>\u001b[0m     parameters\u001b[39m=\u001b[39;49mparameters,\n\u001b[0;32m     <a href='vscode-notebook-cell:/d%3A/VSCode%20Projects/airfoil-optimization-ga/bezier_parametrization_test.ipynb#W0sZmlsZQ%3D%3D?line=36'>37</a>\u001b[0m     shape\u001b[39m=\u001b[39;49mshape,\n\u001b[0;32m     <a href='vscode-notebook-cell:/d%3A/VSCode%20Projects/airfoil-optimization-ga/bezier_parametrization_test.ipynb#W0sZmlsZQ%3D%3D?line=37'>38</a>\u001b[0m     )\n\u001b[0;32m     <a href='vscode-notebook-cell:/d%3A/VSCode%20Projects/airfoil-optimization-ga/bezier_parametrization_test.ipynb#W0sZmlsZQ%3D%3D?line=40'>41</a>\u001b[0m fix, ax \u001b[39m=\u001b[39m plt\u001b[39m.\u001b[39msubplots()\n\u001b[0;32m     <a href='vscode-notebook-cell:/d%3A/VSCode%20Projects/airfoil-optimization-ga/bezier_parametrization_test.ipynb#W0sZmlsZQ%3D%3D?line=41'>42</a>\u001b[0m airfoil\u001b[39m.\u001b[39mplot(ax)\n",
      "File \u001b[1;32md:\\VSCode Projects\\airfoil-optimization-ga\\utils\\bezier_parametrization.py:11\u001b[0m, in \u001b[0;36mBezierAirfoil.__init__\u001b[1;34m(self, parameters, shape)\u001b[0m\n\u001b[0;32m      9\u001b[0m \u001b[39mself\u001b[39m\u001b[39m.\u001b[39mparameters \u001b[39m=\u001b[39m parameters\n\u001b[0;32m     10\u001b[0m \u001b[39mself\u001b[39m\u001b[39m.\u001b[39mshape \u001b[39m=\u001b[39m shape\n\u001b[1;32m---> 11\u001b[0m upper_control_points, lower_control_points \u001b[39m=\u001b[39m BezierAirfoil\u001b[39m.\u001b[39;49m_map_parameters_to_control_points(parameters, shape)\n\u001b[0;32m     12\u001b[0m \u001b[39mself\u001b[39m\u001b[39m.\u001b[39mupper_control_points \u001b[39m=\u001b[39m upper_control_points\n\u001b[0;32m     13\u001b[0m \u001b[39mself\u001b[39m\u001b[39m.\u001b[39mlower_control_points \u001b[39m=\u001b[39m lower_control_points\n",
      "File \u001b[1;32md:\\VSCode Projects\\airfoil-optimization-ga\\utils\\bezier_parametrization.py:63\u001b[0m, in \u001b[0;36mBezierAirfoil._map_parameters_to_control_points\u001b[1;34m(parameters, shape)\u001b[0m\n\u001b[0;32m     60\u001b[0m     \u001b[39mraise\u001b[39;00m \u001b[39mException\u001b[39;00m(\u001b[39mf\u001b[39m\u001b[39m\"\u001b[39m\u001b[39mInvalid number of parameters for shape \u001b[39m\u001b[39m{\u001b[39;00mshape\u001b[39m}\u001b[39;00m\u001b[39m, expected \u001b[39m\u001b[39m{\u001b[39;00mBezierAirfoil\u001b[39m.\u001b[39mparameters_required_for_shape(shape)\u001b[39m}\u001b[39;00m\u001b[39m got \u001b[39m\u001b[39m{\u001b[39;00m\u001b[39mlen\u001b[39m(parameters)\u001b[39m}\u001b[39;00m\u001b[39m\"\u001b[39m)\n\u001b[0;32m     62\u001b[0m parameters_copy \u001b[39m=\u001b[39m np\u001b[39m.\u001b[39masarray(parameters)\u001b[39m.\u001b[39mcopy()\n\u001b[1;32m---> 63\u001b[0m z_te \u001b[39m=\u001b[39m parameters_copy\u001b[39m.\u001b[39;49mpop(\u001b[39m0\u001b[39m)\n\u001b[0;32m     64\u001b[0m dz_te \u001b[39m=\u001b[39m parameters_copy\u001b[39m.\u001b[39mpop(\u001b[39m0\u001b[39m)\n\u001b[0;32m     65\u001b[0m y_upper_1 \u001b[39m=\u001b[39m parameters_copy\u001b[39m.\u001b[39mpop(\u001b[39m0\u001b[39m)\n",
      "\u001b[1;31mAttributeError\u001b[0m: 'numpy.ndarray' object has no attribute 'pop'"
     ]
    }
   ],
   "source": [
    "from matplotlib import pyplot as plt\n",
    "import sys\n",
    "import logging\n",
    "import numpy as np\n",
    "from utils.bezier_parametrization import BezierAirfoil\n",
    "log_level = logging.DEBUG \n",
    "logging.basicConfig(\n",
    "    level=log_level,\n",
    "    stream=sys.stdout\n",
    ")\n",
    "logging.getLogger(\"matplotlib.font_manager\").setLevel(logging.WARNING)\n",
    "logging.getLogger(\"matplotlib.pyplot\").setLevel(logging.WARNING)\n",
    "\n",
    "shape=(6,6)\n",
    "parameters = [\n",
    "    0, #z_te\n",
    "    0, #dz_te\n",
    "    0.1411396509632579, # y_upper_1\n",
    "    -0.06040774190578092, # y_lower_1\n",
    "    0.31520572542813763, # x_2\n",
    "    0.39109318267809434, # x_3\n",
    "    0.5709148615746626, # x_4\n",
    "    0.34363932259611313, # y_2\n",
    "    0.0424359669691409, # y_3\n",
    "    0.07410454920970207, # y_4\n",
    "    0.4464414301191849, # x_2\n",
    "    0.47325435804708416, # x_3\n",
    "    0.3638052466788326, # x_4\n",
    "    -0.09693677277639359, # y_2\n",
    "    -0.11485557171942154, # y_3\n",
    "    0.014626604247552747, # y_4\n",
    "]\n",
    "dz_te = 0\n",
    "\n",
    "airfoil = BezierAirfoil(\n",
    "    parameters=parameters,\n",
    "    shape=shape,\n",
    "    )\n",
    "\n",
    "\n",
    "fix, ax = plt.subplots()\n",
    "airfoil.plot(ax)"
   ]
  },
  {
   "cell_type": "code",
   "execution_count": null,
   "metadata": {},
   "outputs": [
    {
     "ename": "NameError",
     "evalue": "name 'BezierAirfoil' is not defined",
     "output_type": "error",
     "traceback": [
      "\u001b[1;31m---------------------------------------------------------------------------\u001b[0m",
      "\u001b[1;31mNameError\u001b[0m                                 Traceback (most recent call last)",
      "\u001b[1;32md:\\VSCode Projects\\airfoil-optimization-ga\\bezier_parametrization_test.ipynb Cell 2\u001b[0m line \u001b[0;36m1\n\u001b[1;32m----> <a href='vscode-notebook-cell:/d%3A/VSCode%20Projects/airfoil-optimization-ga/bezier_parametrization_test.ipynb#W1sZmlsZQ%3D%3D?line=0'>1</a>\u001b[0m random_airfoil \u001b[39m=\u001b[39m BezierAirfoil\u001b[39m.\u001b[39mget_random_airfoil(mean\u001b[39m=\u001b[39m\u001b[39m0.1\u001b[39m, range_size\u001b[39m=\u001b[39m\u001b[39m0.07\u001b[39m, shape\u001b[39m=\u001b[39m(\u001b[39m6\u001b[39m,\u001b[39m6\u001b[39m), max_try_count\u001b[39m=\u001b[39m\u001b[39m1000\u001b[39m)\n\u001b[0;32m      <a href='vscode-notebook-cell:/d%3A/VSCode%20Projects/airfoil-optimization-ga/bezier_parametrization_test.ipynb#W1sZmlsZQ%3D%3D?line=2'>3</a>\u001b[0m fix, ax \u001b[39m=\u001b[39m plt\u001b[39m.\u001b[39msubplots()\n\u001b[0;32m      <a href='vscode-notebook-cell:/d%3A/VSCode%20Projects/airfoil-optimization-ga/bezier_parametrization_test.ipynb#W1sZmlsZQ%3D%3D?line=3'>4</a>\u001b[0m random_airfoil\u001b[39m.\u001b[39mplot(ax)\n",
      "\u001b[1;31mNameError\u001b[0m: name 'BezierAirfoil' is not defined"
     ]
    }
   ],
   "source": [
    "random_airfoil = BezierAirfoil.get_random_airfoil(mean=0.1, range_size=0.07, shape=(6,6), max_try_count=1000)\n",
    "\n",
    "fix, ax = plt.subplots()\n",
    "random_airfoil.plot(ax)\n",
    "plt.show()"
   ]
  }
 ],
 "metadata": {
  "kernelspec": {
   "display_name": ".venv",
   "language": "python",
   "name": "python3"
  },
  "language_info": {
   "codemirror_mode": {
    "name": "ipython",
    "version": 3
   },
   "file_extension": ".py",
   "mimetype": "text/x-python",
   "name": "python",
   "nbconvert_exporter": "python",
   "pygments_lexer": "ipython3",
   "version": "3.10.11"
  }
 },
 "nbformat": 4,
 "nbformat_minor": 2
}
